{
 "cells": [
  {
   "cell_type": "code",
   "execution_count": 34,
   "id": "5e9d9756-d372-4318-a73c-b451f03a7d27",
   "metadata": {},
   "outputs": [],
   "source": [
    "import os\n",
    "import shutil\n",
    "import csv\n",
    "import pandas as pd\n",
    "import random\n",
    "import numpy as np"
   ]
  },
  {
   "cell_type": "markdown",
   "id": "67fb54db-7713-4924-89a2-92b890ce0675",
   "metadata": {},
   "source": [
    "### Step 1: Put all pictures of the same animal type into one folder for further processing:"
   ]
  },
  {
   "cell_type": "code",
   "execution_count": 23,
   "id": "f17cccec-4dd2-4ec2-807a-5ba5ccafdbb2",
   "metadata": {},
   "outputs": [],
   "source": [
    "def combine_datasets(source_dirs, destination_dir):\n",
    "    '''\n",
    "    take in a list of directories, and combine all files under\n",
    "    these directories into one destination folder\n",
    "    '''\n",
    "\n",
    "    # Create the destination directory if it doesn't exist\n",
    "    os.makedirs(destination_dir, exist_ok=True)\n",
    "\n",
    "    # Iterate through each source directory\n",
    "    for source_dir in source_dirs:\n",
    "        # Iterate through each file in the source directory\n",
    "        for filename in os.listdir(source_dir):\n",
    "            source_path = os.path.join(source_dir, filename)\n",
    "            destination_path = os.path.join(destination_dir, filename)\n",
    "\n",
    "            # Copy the file to the destination directory\n",
    "            shutil.copy(source_path, destination_path)\n",
    "\n",
    "    print(\"Files copied successfully!\")"
   ]
  },
  {
   "cell_type": "code",
   "execution_count": 20,
   "id": "c7a13949-a939-4b46-8b9b-793f54c7b4aa",
   "metadata": {},
   "outputs": [],
   "source": [
    "def get_dataset_dirs(animal_dirs):\n",
    "    '''\n",
    "    this function takes in a dataset directory in the standard\n",
    "    image classification format, and returns a list of source_dirs for the use of\n",
    "    function \"combine_datasets\"\n",
    "    '''\n",
    "    source_dirs = []\n",
    "    specific_dirs = [os.path.join(animal_dirs,'data','test'), os.path.join(animal_dirs,'data','train'), os.path.join(animal_dirs,'data','val')]\n",
    "    for sub_folder_dirs in specific_dirs:\n",
    "        for folders in os.listdir(sub_folder_dirs):\n",
    "            source_dirs.append(os.path.join(sub_folder_dirs,folders))\n",
    "    return source_dirs"
   ]
  },
  {
   "cell_type": "code",
   "execution_count": 27,
   "id": "586c7338-793b-46a1-b680-0e47591544e0",
   "metadata": {},
   "outputs": [
    {
     "name": "stdout",
     "output_type": "stream",
     "text": [
      "Files copied successfully!\n",
      "Files copied successfully!\n",
      "Files copied successfully!\n",
      "Files copied successfully!\n",
      "Files copied successfully!\n",
      "Files copied successfully!\n",
      "Files copied successfully!\n",
      "Files copied successfully!\n",
      "Files copied successfully!\n",
      "Files copied successfully!\n"
     ]
    }
   ],
   "source": [
    "destination = 'C:/Users/leiyi/OneDrive/Desktop/Dataset'\n",
    "for animal_type in os.listdir(general_dirs):\n",
    "    animal_dirs = os.path.join(general_dirs,animal_type)\n",
    "    source_dirs = get_dataset_dirs(animal_dirs)\n",
    "    destination_dir = os.path.join(destination,animal_type)\n",
    "    combine_datasets(source_dirs,destination_dir)"
   ]
  },
  {
   "cell_type": "markdown",
   "id": "c4beece2-1603-494b-85f9-d53ab8156573",
   "metadata": {},
   "source": [
    "### Step 2: Rename the images"
   ]
  },
  {
   "cell_type": "code",
   "execution_count": 28,
   "id": "3fd8d06e-0834-4e34-8c19-b477a8172925",
   "metadata": {},
   "outputs": [],
   "source": [
    "def rename_files(directory,newnames):\n",
    "    '''\n",
    "    take in a directory containing multiple files that need to be renamed,\n",
    "    and rename them to what is specified in a list\n",
    "    '''\n",
    "\n",
    "    for filename in os.listdir(directory):\n",
    "        old_path = os.path.join(directory, filename)\n",
    "        new_filename = newnames.pop(0)\n",
    "        new_path = os.path.join(directory, new_filename)\n",
    "\n",
    "        # Rename file\n",
    "        os.rename(old_path, new_path)"
   ]
  },
  {
   "cell_type": "code",
   "execution_count": 34,
   "id": "3e645338-fb37-43cf-b574-c735109b3f58",
   "metadata": {},
   "outputs": [],
   "source": [
    "gen_dir = 'C:/Users/leiyi/OneDrive/Desktop/Dataset'\n",
    "i = 0\n",
    "for animal_type in os.listdir(gen_dir):\n",
    "    directory = os.path.join(gen_dir,animal_type)\n",
    "    image_no = len(os.listdir(directory))\n",
    "    image_no_list = list(range(1,image_no+1))\n",
    "    image_name = [str(i) + str(x).zfill(7) + '.jpg' for x in image_no_list]\n",
    "    rename_files(directory,image_name)\n",
    "    i += 1"
   ]
  },
  {
   "attachments": {},
   "cell_type": "markdown",
   "id": "a5258668-b027-4eca-9cb8-e62edaac8e01",
   "metadata": {},
   "source": [
    "### Step 3: Move all images into one folder and create a metadata. csv file for it"
   ]
  },
  {
   "cell_type": "code",
   "execution_count": 36,
   "id": "db34b915-9aeb-4a19-bcdf-ea186da7f49d",
   "metadata": {},
   "outputs": [],
   "source": [
    "general_dirs = 'C:/Users/leiyi/OneDrive/Desktop/Dataset'\n",
    "animal_types = os.listdir(general_dirs)\n",
    "source_dirs = [os.path.join(general_dirs,x) for x in animal_types]"
   ]
  },
  {
   "cell_type": "code",
   "execution_count": 38,
   "id": "29cc7d28-89e7-471f-bb6e-e0e72e3a5125",
   "metadata": {},
   "outputs": [
    {
     "name": "stdout",
     "output_type": "stream",
     "text": [
      "Files copied successfully!\n"
     ]
    }
   ],
   "source": [
    "destination_dir = 'C:/Users/leiyi/OneDrive/Desktop/DatasetOriginal'\n",
    "combine_datasets(source_dirs,destination_dir)"
   ]
  },
  {
   "cell_type": "markdown",
   "id": "374ca3cf-2f2a-4c8b-8efb-935c04c60ebc",
   "metadata": {},
   "source": [
    "Now we move some of the leopard and hyena pictures that have sufficient light into the dataset"
   ]
  },
  {
   "cell_type": "markdown",
   "id": "0157c9ea-382a-47e4-8f89-c94a56f83e47",
   "metadata": {},
   "source": [
    "##### First we randomly select 300 leopard and hyena pictures that are sufficiently exposed"
   ]
  },
  {
   "cell_type": "code",
   "execution_count": 7,
   "id": "002ce7ce-0709-41c1-853b-737d7e203294",
   "metadata": {},
   "outputs": [],
   "source": [
    "df_leo = pd.read_csv('C:/Users/leiyi/Downloads/metadata_leopard.csv')\n",
    "df_hye = pd.read_csv('C:/Users/leiyi/Downloads/metadata_hyena.csv')"
   ]
  },
  {
   "cell_type": "code",
   "execution_count": 56,
   "id": "239f78aa-6d18-4646-9c30-a274f6ceb0d7",
   "metadata": {},
   "outputs": [
    {
     "data": {
      "text/html": [
       "<div>\n",
       "<style scoped>\n",
       "    .dataframe tbody tr th:only-of-type {\n",
       "        vertical-align: middle;\n",
       "    }\n",
       "\n",
       "    .dataframe tbody tr th {\n",
       "        vertical-align: top;\n",
       "    }\n",
       "\n",
       "    .dataframe thead th {\n",
       "        text-align: right;\n",
       "    }\n",
       "</style>\n",
       "<table border=\"1\" class=\"dataframe\">\n",
       "  <thead>\n",
       "    <tr style=\"text-align: right;\">\n",
       "      <th></th>\n",
       "      <th>file_name</th>\n",
       "      <th>bbox</th>\n",
       "    </tr>\n",
       "  </thead>\n",
       "  <tbody>\n",
       "    <tr>\n",
       "      <th>0</th>\n",
       "      <td>000000000001.jpg</td>\n",
       "      <td>[[580.1369863013698, 606.8493150684931, 1334.9...</td>\n",
       "    </tr>\n",
       "    <tr>\n",
       "      <th>1</th>\n",
       "      <td>000000000002.jpg</td>\n",
       "      <td>[[331.1170212765957, 599.2021276595744, 1709.0...</td>\n",
       "    </tr>\n",
       "    <tr>\n",
       "      <th>2</th>\n",
       "      <td>000000000003.jpg</td>\n",
       "      <td>[[180.8102345415778, 232.83582089552237, 2084....</td>\n",
       "    </tr>\n",
       "    <tr>\n",
       "      <th>3</th>\n",
       "      <td>000000000004.jpg</td>\n",
       "      <td>[[1380.7453416149067, 733.2298136645962, 654.0...</td>\n",
       "    </tr>\n",
       "    <tr>\n",
       "      <th>4</th>\n",
       "      <td>000000000005.jpg</td>\n",
       "      <td>[[426.027397260274, 829.4520547945204, 333.561...</td>\n",
       "    </tr>\n",
       "    <tr>\n",
       "      <th>...</th>\n",
       "      <td>...</td>\n",
       "      <td>...</td>\n",
       "    </tr>\n",
       "    <tr>\n",
       "      <th>3098</th>\n",
       "      <td>000000003099.jpg</td>\n",
       "      <td>[[754.7945205479451, 498.63013698630135, 764.3...</td>\n",
       "    </tr>\n",
       "    <tr>\n",
       "      <th>3099</th>\n",
       "      <td>000000003100.jpg</td>\n",
       "      <td>[[612.3287671232877, 503.42465753424653, 1026....</td>\n",
       "    </tr>\n",
       "    <tr>\n",
       "      <th>3100</th>\n",
       "      <td>000000003101.jpg</td>\n",
       "      <td>[[0.0, 202.02020202020202, 2338.5858585858587,...</td>\n",
       "    </tr>\n",
       "    <tr>\n",
       "      <th>3101</th>\n",
       "      <td>000000003102.jpg</td>\n",
       "      <td>[[980.1369863013698, 276.027397260274, 1266.43...</td>\n",
       "    </tr>\n",
       "    <tr>\n",
       "      <th>3102</th>\n",
       "      <td>000000003103.jpg</td>\n",
       "      <td>[[1448.4375, 717.1875, 651.5625, 397.265625]]</td>\n",
       "    </tr>\n",
       "  </tbody>\n",
       "</table>\n",
       "<p>3103 rows × 2 columns</p>\n",
       "</div>"
      ],
      "text/plain": [
       "             file_name                                               bbox\n",
       "0     000000000001.jpg  [[580.1369863013698, 606.8493150684931, 1334.9...\n",
       "1     000000000002.jpg  [[331.1170212765957, 599.2021276595744, 1709.0...\n",
       "2     000000000003.jpg  [[180.8102345415778, 232.83582089552237, 2084....\n",
       "3     000000000004.jpg  [[1380.7453416149067, 733.2298136645962, 654.0...\n",
       "4     000000000005.jpg  [[426.027397260274, 829.4520547945204, 333.561...\n",
       "...                ...                                                ...\n",
       "3098  000000003099.jpg  [[754.7945205479451, 498.63013698630135, 764.3...\n",
       "3099  000000003100.jpg  [[612.3287671232877, 503.42465753424653, 1026....\n",
       "3100  000000003101.jpg  [[0.0, 202.02020202020202, 2338.5858585858587,...\n",
       "3101  000000003102.jpg  [[980.1369863013698, 276.027397260274, 1266.43...\n",
       "3102  000000003103.jpg      [[1448.4375, 717.1875, 651.5625, 397.265625]]\n",
       "\n",
       "[3103 rows x 2 columns]"
      ]
     },
     "execution_count": 56,
     "metadata": {},
     "output_type": "execute_result"
    }
   ],
   "source": [
    "df_hye"
   ]
  },
  {
   "cell_type": "code",
   "execution_count": 8,
   "id": "36f7d11e-3faf-4392-bb87-baa7ae3e1488",
   "metadata": {},
   "outputs": [],
   "source": [
    "leo_name = df_leo['file_name'].tolist()\n",
    "hye_name = df_hye['file_name'].tolist()"
   ]
  },
  {
   "cell_type": "code",
   "execution_count": 9,
   "id": "cce4537f-c32c-49c3-8791-0393f91b0e8c",
   "metadata": {},
   "outputs": [],
   "source": [
    "import random\n",
    "leo_rand_list = random.choices(leo_name,k = 300)\n",
    "hye_rand_list = random.choices(hye_name,k = 300)"
   ]
  },
  {
   "cell_type": "markdown",
   "id": "2d965343-6441-40e8-87b2-fb1409493078",
   "metadata": {},
   "source": [
    "Now we move them to a new folder, and change their names"
   ]
  },
  {
   "cell_type": "code",
   "execution_count": 60,
   "id": "b8d04c4c-3936-44f5-8bf0-5be1c1af00e6",
   "metadata": {},
   "outputs": [],
   "source": [
    "leo_dir = 'C:/Users/leiyi/Downloads/leopard.coco/leopard.coco/images/train2022'\n",
    "hye_dir = 'C:/Users/leiyi/Downloads/hyena.coco/hyena/images/train'\n",
    "destination_dir = 'C:/Users/leiyi/OneDrive/Desktop/DatasetLeoHye'\n",
    "for i in range(300):\n",
    "    shutil.copy(os.path.join(leo_dir,leo_rand_list[i]), os.path.join(destination_dir,'leopard',leo_rand_list[i]))\n",
    "    shutil.copy(os.path.join(hye_dir,'1' + hye_rand_list[i]), os.path.join(destination_dir,'hyena',hye_rand_list[i]))"
   ]
  },
  {
   "cell_type": "markdown",
   "id": "0b6f1e04-21d2-460e-8aa5-8974d27e712a",
   "metadata": {},
   "source": [
    "Rename them"
   ]
  },
  {
   "cell_type": "code",
   "execution_count": 62,
   "id": "0d9d9492-084b-4486-b76a-78c62dc258ea",
   "metadata": {},
   "outputs": [],
   "source": [
    "number_list = list(range(1,301))\n",
    "leo_new_name = [str(9) + str(x).zfill(7) + '.jpg' for x in number_list]\n",
    "hye_new_name = [str(10) + str(x).zfill(7) + '.jpg' for x in number_list]\n",
    "rename_files(os.path.join(destination_dir,'leopard'),leo_new_name)\n",
    "rename_files(os.path.join(destination_dir,'hyena'),hye_new_name)"
   ]
  },
  {
   "cell_type": "markdown",
   "id": "c2a26f9e-c11c-454c-9fb4-8ca3c952dad2",
   "metadata": {},
   "source": [
    "Resize them"
   ]
  },
  {
   "cell_type": "code",
   "execution_count": 2,
   "id": "a7b5dbde-667f-4f68-8ad4-c7d81e42f625",
   "metadata": {},
   "outputs": [],
   "source": [
    "from PIL import Image"
   ]
  },
  {
   "cell_type": "code",
   "execution_count": 19,
   "id": "5ff587d6-f87b-4c90-8d5e-206729cb8aa4",
   "metadata": {},
   "outputs": [],
   "source": [
    "def resize_image(input_path,output_path, width = 600, height = 400):\n",
    "    '''\n",
    "    take in an input path containing multiple images,\n",
    "    compress them into the size of 600*400,\n",
    "    and move them to the folder given by output_path\n",
    "    '''\n",
    "\n",
    "    image_list = os.listdir(input_path)\n",
    "    for image_name in image_list:\n",
    "        image = Image.open(os.path.join(input_path,image_name))\n",
    "        new_size = (width, height)\n",
    "        resized_image = image.resize(new_size)\n",
    "        resized_image.save(os.path.join(output_path,image_name))"
   ]
  },
  {
   "cell_type": "code",
   "execution_count": 65,
   "id": "495b76f5-e94e-4e2f-b21e-0cdb08b97bf7",
   "metadata": {},
   "outputs": [],
   "source": [
    "leo_input_path = 'C:/Users/leiyi/OneDrive/Desktop/DatasetLeoHye/leopard'\n",
    "hye_input_path = 'C:/Users/leiyi/OneDrive/Desktop/DatasetLeoHye/hyena'\n",
    "output_path = 'C:/Users/leiyi/OneDrive/Desktop/DatasetOriginal'\n",
    "resize_image(leo_input_path,output_path)\n",
    "resize_image(hye_input_path,output_path)"
   ]
  },
  {
   "cell_type": "markdown",
   "id": "0201ccf4-40dd-4bae-bfcf-d3d96f70276a",
   "metadata": {},
   "source": [
    "Now we create a metadata.csv file for this folder"
   ]
  },
  {
   "cell_type": "code",
   "execution_count": 31,
   "id": "e25b49c0-9694-47b7-9e50-f0d388e98d6a",
   "metadata": {},
   "outputs": [],
   "source": [
    "import csv\n",
    "import torch\n",
    "from torchvision import transforms\n",
    "import ast\n",
    "def create_a_metadata(images_dir):\n",
    "    '''\n",
    "    take in an image dir, and create a metadata.csv file for the images contained\n",
    "    '''\n",
    "\n",
    "    metadata = [['file_name', 'image_id','width','height','objects']]\n",
    "    with open(\"C:/Users/leiyi/OneDrive/Desktop/metadata.csv\", \"w\", newline=\"\") as file:\n",
    "        writer = csv.writer(file)\n",
    "\n",
    "        # Write the header row (optional)\n",
    "        writer.writerow(metadata[0])\n",
    "    image_id = 0\n",
    "    transform = transforms.ToTensor()\n",
    "    for filename in os.listdir(images_dir):\n",
    "        image = Image.open(os.path.join(images_dir,filename))\n",
    "        newline = [filename]\n",
    "        objects = dict()\n",
    "        newline.append(image_id)\n",
    "        width, height = image.size\n",
    "        newline.append(width)\n",
    "        newline.append(height)\n",
    "        image_tensor = transform(image)\n",
    "        objects['pixel_values'] = image_tensor\n",
    "        objects['labels'] = ast.literal_eval(filename[:-11])\n",
    "        \n",
    "        if objects['labels'] == 0:\n",
    "            objects['category'] = 'antelope'\n",
    "        elif objects['labels'] == 1:\n",
    "            objects['category'] = 'bear'\n",
    "        elif objects['labels'] == 2:\n",
    "            objects['category'] = 'deer'\n",
    "        elif objects['labels'] == 3:\n",
    "            objects['category'] = 'fox'\n",
    "        elif objects['labels'] == 4:\n",
    "            objects['category'] = 'hare'\n",
    "        elif objects['labels'] == 5:\n",
    "            objects['category'] = 'lion'\n",
    "        elif objects['labels'] == 6:\n",
    "            objects['category'] = 'raccoon'\n",
    "        elif objects['labels'] == 7:\n",
    "            objects['category'] = 'tiger'\n",
    "        elif objects['labels'] == 8:\n",
    "            objects['category'] = 'wolf'\n",
    "        elif objects['labels'] == 9:\n",
    "            objects['category'] = 'leopard'\n",
    "        else:\n",
    "            objects['category'] = 'hyena'\n",
    "        \n",
    "        newline.append(objects)\n",
    "        \n",
    "        with open(\"C:/Users/leiyi/OneDrive/Desktop/metadata.csv\", \"a\", newline=\"\") as file:\n",
    "            writer = csv.writer(file)\n",
    "            writer.writerows([newline])\n",
    "            \n",
    "        image_id += 1"
   ]
  },
  {
   "cell_type": "code",
   "execution_count": 3,
   "id": "e6462238-e5a9-4a4d-80c8-37b0e17c5eeb",
   "metadata": {},
   "outputs": [],
   "source": [
    "metadata = [['filename'],['aba'],['here']]"
   ]
  },
  {
   "cell_type": "code",
   "execution_count": 11,
   "id": "dc3bcbd3-25fe-4d3e-9468-965cc8524596",
   "metadata": {},
   "outputs": [],
   "source": [
    "images_dir = 'C:/Users/leiyi/OneDrive/Desktop/Dataset/antelope'"
   ]
  },
  {
   "cell_type": "code",
   "execution_count": 16,
   "id": "a1522c92-388c-43ac-b1b6-608adccc6584",
   "metadata": {},
   "outputs": [],
   "source": [
    "images_dir = 'C:/Users/leiyi/OneDrive/Desktop/DatasetOriginal'\n",
    "create_a_metadata(images_dir)"
   ]
  },
  {
   "cell_type": "markdown",
   "id": "bf0b9575-45ed-40e4-85ec-e5bdc894a264",
   "metadata": {},
   "source": [
    "#### Create a subset of pictures that are to be darkened "
   ]
  },
  {
   "cell_type": "code",
   "execution_count": 15,
   "id": "6fa29418-8c03-4f5f-a110-bcfd5ce79cfc",
   "metadata": {},
   "outputs": [],
   "source": [
    "def create_rand_pictures(input_path, output_path, perc = 0.1):\n",
    "    '''\n",
    "    take in an input path of images,\n",
    "    and randomly choose 10% of the pictures to be copied\n",
    "    to the output path for later use\n",
    "    '''\n",
    "\n",
    "    # Create the destination directory if it doesn't exist\n",
    "    os.makedirs(output_path, exist_ok=True)\n",
    "    image_list = os.listdir(input_path)\n",
    "    picture_no = int(perc*len(image_list))\n",
    "    new_image_list = random.choices(image_list, k = picture_no)\n",
    "    for image in new_image_list:\n",
    "        shutil.copy(os.path.join(input_path,image),os.path.join(output_path,image))"
   ]
  },
  {
   "cell_type": "code",
   "execution_count": 17,
   "id": "5bf21075-89b2-4c07-92c4-57c85fe33667",
   "metadata": {},
   "outputs": [],
   "source": [
    "input_path_gen = 'C:/Users/leiyi/OneDrive/Desktop/Dataset'\n",
    "output_path_gen = 'C:/Users/leiyi/OneDrive/Desktop/DatasetDark'\n",
    "dir_list = os.listdir(input_path_gen)\n",
    "for animal_type in dir_list:\n",
    "    input_path = os.path.join(input_path_gen,animal_type)\n",
    "    output_path = os.path.join(output_path_gen, animal_type)\n",
    "    create_rand_pictures(input_path,output_path,perc = 0.2)"
   ]
  },
  {
   "cell_type": "markdown",
   "id": "153dcf26-3186-4f0e-9438-09089c666d0e",
   "metadata": {},
   "source": [
    "### Get the darkest pictures from the hyena and leopard dataset"
   ]
  },
  {
   "cell_type": "code",
   "execution_count": 18,
   "id": "d982c936-a65f-41e0-b020-7eab483ab12b",
   "metadata": {},
   "outputs": [],
   "source": [
    "def calculate_brightness(image):\n",
    "    # Convert image to grayscale\n",
    "    grayscale_image = image.convert('L')\n",
    "\n",
    "    # Get pixel values as a numpy array\n",
    "    pixels = np.array(grayscale_image)\n",
    "\n",
    "    # Calculate mean pixel value\n",
    "    mean_brightness = np.mean(pixels)\n",
    "\n",
    "    return mean_brightness"
   ]
  },
  {
   "cell_type": "code",
   "execution_count": 21,
   "id": "3065c732-992b-4741-b8fe-73f4c18706ec",
   "metadata": {},
   "outputs": [
    {
     "name": "stdout",
     "output_type": "stream",
     "text": [
      "3103.jpg\n",
      "000\n"
     ]
    }
   ],
   "source": [
    "aba = '10000003103.jpg'\n",
    "print(aba[-8:])\n",
    "print('0'*3)"
   ]
  },
  {
   "cell_type": "code",
   "execution_count": 30,
   "id": "414a52a1-60a6-4a5b-a158-b31014ad5964",
   "metadata": {},
   "outputs": [
    {
     "ename": "UnidentifiedImageError",
     "evalue": "cannot identify image file 'C:\\\\dark\\\\metadata.csv'",
     "output_type": "error",
     "traceback": [
      "\u001b[1;31m---------------------------------------------------------------------------\u001b[0m",
      "\u001b[1;31mUnidentifiedImageError\u001b[0m                    Traceback (most recent call last)",
      "Cell \u001b[1;32mIn[30], line 5\u001b[0m\n\u001b[0;32m      3\u001b[0m output_path \u001b[38;5;241m=\u001b[39m \u001b[38;5;124m'\u001b[39m\u001b[38;5;124mC:/Users/leiyi/OneDrive/Desktop/DatasetMixed\u001b[39m\u001b[38;5;124m'\u001b[39m\n\u001b[0;32m      4\u001b[0m \u001b[38;5;28;01mfor\u001b[39;00m image_name \u001b[38;5;129;01min\u001b[39;00m image_name_list:\n\u001b[1;32m----> 5\u001b[0m     image \u001b[38;5;241m=\u001b[39m Image\u001b[38;5;241m.\u001b[39mopen(os\u001b[38;5;241m.\u001b[39mpath\u001b[38;5;241m.\u001b[39mjoin(dark_path,image_name))\n\u001b[0;32m      6\u001b[0m     \u001b[38;5;28;01mif\u001b[39;00m calculate_brightness(image) \u001b[38;5;241m<\u001b[39m\u001b[38;5;241m=\u001b[39m \u001b[38;5;241m20\u001b[39m:\n\u001b[0;32m      7\u001b[0m         resized_image \u001b[38;5;241m=\u001b[39m image\u001b[38;5;241m.\u001b[39mresize((\u001b[38;5;241m600\u001b[39m,\u001b[38;5;241m400\u001b[39m))\n",
      "File \u001b[1;32m~\\anaconda3\\Lib\\site-packages\\PIL\\Image.py:3498\u001b[0m, in \u001b[0;36mopen\u001b[1;34m(fp, mode, formats)\u001b[0m\n\u001b[0;32m   3496\u001b[0m     warnings\u001b[38;5;241m.\u001b[39mwarn(message)\n\u001b[0;32m   3497\u001b[0m msg \u001b[38;5;241m=\u001b[39m \u001b[38;5;124m\"\u001b[39m\u001b[38;5;124mcannot identify image file \u001b[39m\u001b[38;5;132;01m%r\u001b[39;00m\u001b[38;5;124m\"\u001b[39m \u001b[38;5;241m%\u001b[39m (filename \u001b[38;5;28;01mif\u001b[39;00m filename \u001b[38;5;28;01melse\u001b[39;00m fp)\n\u001b[1;32m-> 3498\u001b[0m \u001b[38;5;28;01mraise\u001b[39;00m UnidentifiedImageError(msg)\n",
      "\u001b[1;31mUnidentifiedImageError\u001b[0m: cannot identify image file 'C:\\\\dark\\\\metadata.csv'"
     ]
    }
   ],
   "source": [
    "dark_path = 'C:/dark'\n",
    "image_name_list = os.listdir(dark_path)\n",
    "output_path = 'C:/Users/leiyi/OneDrive/Desktop/DatasetMixed'\n",
    "for image_name in image_name_list:\n",
    "    image = Image.open(os.path.join(dark_path,image_name))\n",
    "    if calculate_brightness(image) <= 20:\n",
    "        resized_image = image.resize((600,400))\n",
    "        if image_name[0] == '0':\n",
    "            image_name_new = '9' + '0'*3 + image_name[-8:]\n",
    "            resized_image.save(os.path.join(output_path,image_name_new))\n",
    "        else:\n",
    "            image_name_new = '10' + '0'*3 + image_name[-8:]\n",
    "            resized_image.save(os.path.join(output_path,image_name_new))"
   ]
  },
  {
   "cell_type": "code",
   "execution_count": 32,
   "id": "25284512-c5dc-4ee9-8c27-36c6e27b18c0",
   "metadata": {},
   "outputs": [],
   "source": [
    "images_dir = 'C:/Users/leiyi/OneDrive/Desktop/DatasetMixed'\n",
    "create_a_metadata(images_dir)"
   ]
  },
  {
   "cell_type": "code",
   "execution_count": 33,
   "id": "2dcfe237-6931-437f-a936-9c413ea6497b",
   "metadata": {},
   "outputs": [
    {
     "name": "stdout",
     "output_type": "stream",
     "text": [
      "C:\\Users\\leiyi\\Documents\n"
     ]
    }
   ],
   "source": [
    "from pathlib import Path\n",
    "\n",
    "cwd = Path.cwd()\n",
    "print(cwd)"
   ]
  },
  {
   "cell_type": "code",
   "execution_count": null,
   "id": "8c86df26-5db7-432c-b91c-06ac459d08ac",
   "metadata": {},
   "outputs": [],
   "source": []
  }
 ],
 "metadata": {
  "kernelspec": {
   "display_name": "Python 3 (ipykernel)",
   "language": "python",
   "name": "python3"
  },
  "language_info": {
   "codemirror_mode": {
    "name": "ipython",
    "version": 3
   },
   "file_extension": ".py",
   "mimetype": "text/x-python",
   "name": "python",
   "nbconvert_exporter": "python",
   "pygments_lexer": "ipython3",
   "version": "3.12.7"
  }
 },
 "nbformat": 4,
 "nbformat_minor": 5
}
